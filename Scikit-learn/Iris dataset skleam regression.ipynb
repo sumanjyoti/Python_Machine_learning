{
 "cells": [
  {
   "cell_type": "code",
   "execution_count": 65,
   "metadata": {
    "collapsed": false
   },
   "outputs": [
    {
     "data": {
      "text/plain": [
       "Species\n",
       "setosa        1.469388\n",
       "versicolor    4.260000\n",
       "virginica     5.561224\n",
       "Name: Petal.Length, dtype: float64"
      ]
     },
     "execution_count": 65,
     "metadata": {},
     "output_type": "execute_result"
    }
   ],
   "source": [
    "#########################################################################################################################\n",
    "##One Timer\n",
    "# Importing csv file \n",
    "import pandas as pd\n",
    "import numpy as np\n",
    "\n",
    "df = pd.read_csv('iris_with_missing_data.csv')\n",
    "\n",
    "df.groupby(['Species'])['Petal.Length'].mean()\n"
   ]
  },
  {
   "cell_type": "code",
   "execution_count": 66,
   "metadata": {
    "collapsed": false
   },
   "outputs": [
    {
     "data": {
      "text/plain": [
       "Species\n",
       "setosa        0.246\n",
       "versicolor    1.326\n",
       "virginica     2.026\n",
       "Name: Petal.Width, dtype: float64"
      ]
     },
     "execution_count": 66,
     "metadata": {},
     "output_type": "execute_result"
    }
   ],
   "source": [
    "df.groupby(['Species'])['Petal.Width'].mean()\n"
   ]
  },
  {
   "cell_type": "code",
   "execution_count": 67,
   "metadata": {
    "collapsed": false
   },
   "outputs": [
    {
     "data": {
      "text/plain": [
       "Species\n",
       "setosa        5.000000\n",
       "versicolor    5.936000\n",
       "virginica     6.564583\n",
       "Name: Sepal.Length, dtype: float64"
      ]
     },
     "execution_count": 67,
     "metadata": {},
     "output_type": "execute_result"
    }
   ],
   "source": [
    "df.groupby(['Species'])['Sepal.Length'].mean()\n"
   ]
  },
  {
   "cell_type": "code",
   "execution_count": 68,
   "metadata": {
    "collapsed": false
   },
   "outputs": [
    {
     "data": {
      "text/plain": [
       "Species\n",
       "setosa        3.419149\n",
       "versicolor    2.775510\n",
       "virginica     2.973469\n",
       "Name: Sepal.Width, dtype: float64"
      ]
     },
     "execution_count": 68,
     "metadata": {},
     "output_type": "execute_result"
    }
   ],
   "source": [
    "df.groupby(['Species'])['Sepal.Width'].mean()\n"
   ]
  },
  {
   "cell_type": "code",
   "execution_count": 69,
   "metadata": {
    "collapsed": false
   },
   "outputs": [],
   "source": [
    "df= df.fillna(df.mean())"
   ]
  },
  {
   "cell_type": "code",
   "execution_count": 70,
   "metadata": {
    "collapsed": false
   },
   "outputs": [],
   "source": [
    "inner_arr_v1 = []\n",
    "inner_arr_v2 = []\n",
    "inner_arr_s = []\n",
    "for index, row in df.iterrows():\n",
    "    if index < 50:\n",
    "        inner_arr_s.append([row[0],row[1],row[2],row[3]])\n",
    "    elif index <100:\n",
    "        inner_arr_v1.append([row[0],row[1],row[2],row[3]])\n",
    "    else:\n",
    "        inner_arr_v2.append([row[0],row[1],row[2],row[3]])\n",
    "    \n",
    "#print (df)\n",
    "#print (inner_arr_s)\n",
    "#print (inner_arr_v1)\n",
    "#print (inner_arr_v2)\n"
   ]
  },
  {
   "cell_type": "code",
   "execution_count": 71,
   "metadata": {
    "collapsed": false
   },
   "outputs": [
    {
     "name": "stdout",
     "output_type": "stream",
     "text": [
      "[ 52.12936086]\n"
     ]
    }
   ],
   "source": [
    "from sklearn import linear_model\n",
    "reg = linear_model.LinearRegression()\n",
    "new_iris = [[6.7,2.5,5.000,2.3]]\n",
    "new_iris = [[3,.2,5,3.5]]\n",
    "new_iris = [[3,.2,7,3]]\n",
    "fit_s = reg.fit (inner_arr_s, range(50))\n",
    "prob_s = reg.predict(new_iris)\n",
    "print(prob_s)"
   ]
  },
  {
   "cell_type": "code",
   "execution_count": 72,
   "metadata": {
    "collapsed": false
   },
   "outputs": [
    {
     "name": "stdout",
     "output_type": "stream",
     "text": [
      "[ 33.14214991]\n",
      "[-53.03999974]\n"
     ]
    }
   ],
   "source": [
    "fit_v1 = reg.fit (inner_arr_v1, range(50))\n",
    "prob_v1 = reg.predict(new_iris)\n",
    "print(prob_v1)\n",
    "fit_v2 = reg.fit (inner_arr_v2, range(50))\n",
    "prob_v2 = reg.predict(new_iris)\n",
    "print(prob_v2)\n"
   ]
  },
  {
   "cell_type": "code",
   "execution_count": 73,
   "metadata": {
    "collapsed": false
   },
   "outputs": [
    {
     "data": {
      "text/plain": [
       "array([ 52.12936086])"
      ]
     },
     "execution_count": 73,
     "metadata": {},
     "output_type": "execute_result"
    }
   ],
   "source": [
    "max(prob_s,prob_v1,prob_v2)"
   ]
  },
  {
   "cell_type": "code",
   "execution_count": null,
   "metadata": {
    "collapsed": true
   },
   "outputs": [],
   "source": []
  }
 ],
 "metadata": {
  "kernelspec": {
   "display_name": "Python 3",
   "language": "python",
   "name": "python3"
  },
  "language_info": {
   "codemirror_mode": {
    "name": "ipython",
    "version": 3
   },
   "file_extension": ".py",
   "mimetype": "text/x-python",
   "name": "python",
   "nbconvert_exporter": "python",
   "pygments_lexer": "ipython3",
   "version": "3.6.0"
  }
 },
 "nbformat": 4,
 "nbformat_minor": 2
}
