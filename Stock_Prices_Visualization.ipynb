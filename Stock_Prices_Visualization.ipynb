{
 "cells": [
  {
   "cell_type": "code",
   "execution_count": 2,
   "metadata": {
    "collapsed": false
   },
   "outputs": [
    {
     "ename": "ModuleNotFoundError",
     "evalue": "No module named 'pandas_datareader'",
     "output_type": "error",
     "traceback": [
      "\u001b[0;31m---------------------------------------------------------------------------\u001b[0m",
      "\u001b[0;31mModuleNotFoundError\u001b[0m                       Traceback (most recent call last)",
      "\u001b[0;32m<ipython-input-2-3f7696cf755c>\u001b[0m in \u001b[0;36m<module>\u001b[0;34m()\u001b[0m\n\u001b[1;32m     11\u001b[0m \u001b[0;32mimport\u001b[0m \u001b[0mplotly\u001b[0m\u001b[0;34m.\u001b[0m\u001b[0mgraph_objs\u001b[0m \u001b[0;32mas\u001b[0m \u001b[0mgo\u001b[0m\u001b[0;34m\u001b[0m\u001b[0m\n\u001b[1;32m     12\u001b[0m \u001b[0;32mimport\u001b[0m \u001b[0mtime\u001b[0m\u001b[0;34m\u001b[0m\u001b[0m\n\u001b[0;32m---> 13\u001b[0;31m \u001b[0;32mimport\u001b[0m \u001b[0mpandas_datareader\u001b[0m \u001b[0;32mas\u001b[0m \u001b[0mweb\u001b[0m\u001b[0;34m\u001b[0m\u001b[0m\n\u001b[0m\u001b[1;32m     14\u001b[0m \u001b[0;31m# Package and modules for importing data;\u001b[0m\u001b[0;34m\u001b[0m\u001b[0;34m\u001b[0m\u001b[0m\n\u001b[1;32m     15\u001b[0m \u001b[0;32mimport\u001b[0m \u001b[0mdatetime\u001b[0m\u001b[0;34m\u001b[0m\u001b[0m\n",
      "\u001b[0;31mModuleNotFoundError\u001b[0m: No module named 'pandas_datareader'"
     ]
    }
   ],
   "source": [
    "\n",
    "\n",
    "#Libraries\n",
    "import pandas as pd\n",
    "import numpy as np\n",
    "import matplotlib.pyplot as plt\n",
    "from matplotlib import style\n",
    "import plotly\n",
    "import plotly.plotly as py\n",
    "import plotly.tools as tls\n",
    "import plotly.graph_objs as go\n",
    "import time \n",
    "import pandas_datareader as web\n",
    "# Package and modules for importing data;\n",
    "import datetime\n",
    "import requests\n",
    "import json as js\n",
    "import csv\n",
    "\n"
   ]
  },
  {
   "cell_type": "code",
   "execution_count": null,
   "metadata": {
    "collapsed": true
   },
   "outputs": [],
   "source": [
    "\n",
    "# calling plotly with api\n",
    "plotly.tools.set_credentials_file(username='zahras', api_key='EqBsQSZsHZQi50gUjtOy')\n",
    "\n"
   ]
  },
  {
   "cell_type": "code",
   "execution_count": null,
   "metadata": {
    "collapsed": true
   },
   "outputs": [],
   "source": [
    "\n",
    "\n",
    "# Calling API for Microsoft stock prices\n",
    "\n",
    "headers = {\n",
    "    'X-API-KEY': 'E86QP8PDW9BF64T4',\n",
    "}\n",
    "API_KEY = 'E86QP8PDW9BF64T4'\n",
    "url = 'https://www.alphavantage.co/query?function=TIME_SERIES_DAILY&symbol=MSFT&outputsize=full&apikey='+API_KEY\n",
    "api_call=requests.get(url, headers=headers)\n",
    "file1 = api_call.text\n",
    "file1=js.loads(api_call.text)\n",
    "\n"
   ]
  },
  {
   "cell_type": "code",
   "execution_count": null,
   "metadata": {
    "collapsed": false
   },
   "outputs": [],
   "source": [
    "\n",
    "\n",
    "file1['Time Series (Daily)']['2017-07-27']\n",
    "\n"
   ]
  },
  {
   "cell_type": "code",
   "execution_count": null,
   "metadata": {
    "collapsed": true
   },
   "outputs": [],
   "source": [
    "\n",
    "\n",
    "# To write into csv\n",
    "\n",
    "from datetime import datetime\n",
    "\n",
    "csv.writer(open(\"data.csv\", \"wb\"), dialect=\"excel\")\n",
    "\n",
    "x = file1\n",
    "\n",
    "#f = csv.writer(open(\"abc.csv\", \"\"))\n",
    "\n",
    "# Write CSV Header, If you dont need that, remove this line\n",
    "#f.writerow([\"pk\", \"model\", \"codename\", \"name\", \"content_type\"])\n",
    "temp_data = file1['Time Series (Daily)']\n",
    "with open('Microsoft_stock.csv','w') as f:\n",
    "    writ =  csv.writer(f)\n",
    "    label=('Date','Open','High','Low','Close','Volume')\n",
    "    writ.writerow(label)\n",
    "for temp_date in temp_data:\n",
    "    datetime_object = datetime.strptime(temp_date, '%Y-%m-%d')\n",
    "    fields =[datetime_object,\n",
    "             float(temp_data[temp_date]['1. open']),\n",
    "             float(temp_data[temp_date]['2. high']),\n",
    "             float(temp_data[temp_date]['3. low']),\n",
    "             float(temp_data[temp_date]['4. close']),\n",
    "             float(temp_data[temp_date]['5. volume'])]\n",
    "#     print (fields)\n",
    "    with open('Microsoft_stock.csv','a') as f:\n",
    "        writ =  csv.writer(f)\n",
    "        writ.writerow(fields)\n",
    "        \n",
    "        "
   ]
  },
  {
   "cell_type": "code",
   "execution_count": null,
   "metadata": {
    "collapsed": true
   },
   "outputs": [],
   "source": [
    "\n",
    "\n",
    "# Changing time to Day Month Year format\n",
    "temp_data = file1['Time Series (Daily)']\n",
    "for temp_date in temp_data:\n",
    "    datetime_object = datetime.strptime(temp_date, '%Y-%m-%d')\n",
    "    (datetime_object)\n",
    "    \n",
    "    "
   ]
  },
  {
   "cell_type": "code",
   "execution_count": null,
   "metadata": {
    "collapsed": false
   },
   "outputs": [],
   "source": [
    "\n",
    "\n",
    "Microsoft=pd.read_csv('Microsoft_stock.csv', parse_dates=True, index_col=0 )\n",
    "Microsoft.dropna(inplace=True)\n",
    "print(Microsoft.head(5))\n",
    "\n"
   ]
  },
  {
   "cell_type": "code",
   "execution_count": null,
   "metadata": {
    "collapsed": false
   },
   "outputs": [],
   "source": [
    "\n",
    "\n",
    "Microsoft.index.values\n",
    "\n"
   ]
  },
  {
   "cell_type": "code",
   "execution_count": null,
   "metadata": {
    "collapsed": true
   },
   "outputs": [],
   "source": [
    "\n",
    "\n",
    "#Cleaning the index values. Changing time to Day Month Year format\n",
    "Address_M='Microsoft_stock.csv'\n",
    "Microsoft=pd.read_csv(Address_M)\n",
    "Microsoft['Date'] = pd.to_datetime(Microsoft['Date']).apply(lambda x: x.strftime('%Y-%m-%d')if not pd.isnull(x) else '')\n",
    "\n"
   ]
  },
  {
   "cell_type": "code",
   "execution_count": null,
   "metadata": {
    "collapsed": false
   },
   "outputs": [],
   "source": [
    "\n",
    "\n",
    "Microsoft[['High','Low']].plot()\n",
    "plt.show()\n",
    "print()\n",
    "\n"
   ]
  },
  {
   "cell_type": "code",
   "execution_count": null,
   "metadata": {
    "collapsed": true
   },
   "outputs": [],
   "source": [
    "\n",
    "\n",
    "# a=Microsoft['Date']\n",
    "# b=Microsoft['High']\n",
    "\n",
    "# trace= go.Scatter(x=a,y=b)\n",
    "# data=[trace]\n",
    "# py.iplot(data, filename='Microsoft')\n",
    "\n"
   ]
  },
  {
   "cell_type": "code",
   "execution_count": null,
   "metadata": {
    "collapsed": true
   },
   "outputs": [],
   "source": [
    "\n",
    "\n",
    "# Calling API for Apple's stock prices\n",
    "\n",
    "headers = {\n",
    "    'X-API-KEY': 'E86QP8PDW9BF64T4',\n",
    "}\n",
    "API_KEY = 'E86QP8PDW9BF64T4'\n",
    "url = 'https://www.alphavantage.co/query?function=TIME_SERIES_DAILY&symbol=AAPL&outputsize=ful&apikey='+API_KEY\n",
    "api_call=requests.get(url, headers=headers)\n",
    "file2 = api_call.text\n",
    "file2=js.loads(api_call.text)\n",
    "\n"
   ]
  },
  {
   "cell_type": "code",
   "execution_count": null,
   "metadata": {
    "collapsed": true
   },
   "outputs": [],
   "source": [
    "\n",
    "\n",
    "# To write into csv\n",
    "\n",
    "csv.writer(open(\"data.csv\", \"wb\"), dialect=\"excel\")\n",
    "\n",
    "x = file2\n",
    "\n",
    "temp_data = file2['Time Series (Daily)']\n",
    "with open('Apple_stock.csv','w') as f:\n",
    "    writ =  csv.writer(f)\n",
    "    label=('Date','Open','High','Low','Close','Volume')\n",
    "    writ.writerow(label)\n",
    "for temp_date in temp_data:\n",
    "    datetime_object = datetime.strptime(temp_date, '%Y-%m-%d')\n",
    "    fields =[datetime_object,\n",
    "             float(temp_data[temp_date]['1. open']),\n",
    "             float(temp_data[temp_date]['2. high']),\n",
    "             float(temp_data[temp_date]['3. low']),\n",
    "             float(temp_data[temp_date]['4. close']),\n",
    "             float(temp_data[temp_date]['5. volume'])]\n",
    "#     print (fields)\n",
    "    with open('Apple_stock.csv','a') as f:\n",
    "        writ =  csv.writer(f)\n",
    "        writ.writerow(fields)\n",
    "        \n",
    "        "
   ]
  },
  {
   "cell_type": "code",
   "execution_count": null,
   "metadata": {
    "collapsed": true
   },
   "outputs": [],
   "source": [
    "\n",
    "\n",
    "# Changing time to Day Month Year format\n",
    "temp_data = file2['Time Series (Daily)']\n",
    "for temp_date in temp_data:\n",
    "    datetime_object = datetime.strptime(temp_date, '%Y-%m-%d')\n",
    "    (datetime_object)\n",
    "    \n",
    "    "
   ]
  },
  {
   "cell_type": "code",
   "execution_count": null,
   "metadata": {
    "collapsed": true
   },
   "outputs": [],
   "source": [
    "\n",
    "\n",
    "Apple=pd.read_csv('Apple_stock.csv', parse_dates=True, index_col=0 )\n",
    "Apple.dropna(inplace=True)\n",
    "\n"
   ]
  },
  {
   "cell_type": "code",
   "execution_count": null,
   "metadata": {
    "collapsed": true
   },
   "outputs": [],
   "source": [
    "\n",
    "\n",
    "#Cleaning the index values. Changing time to Day Month Year format\n",
    "Address_A='Apple_stock.csv'\n",
    "Apple=pd.read_csv(Address_A)\n",
    "Apple['Date'] = pd.to_datetime(Apple['Date']).apply(lambda x: x.strftime('%Y-%m-%d')if not pd.isnull(x) else '')\n",
    "\n"
   ]
  },
  {
   "cell_type": "code",
   "execution_count": null,
   "metadata": {
    "collapsed": true
   },
   "outputs": [],
   "source": [
    "\n",
    "\n",
    "# a=Apple['Date']\n",
    "# b=Apple['High']\n",
    "\n",
    "# trace= go.Scatter(x=a,y=b)\n",
    "# data=[trace]\n",
    "# py.iplot(data, filename='Apple')\n",
    "\n"
   ]
  },
  {
   "cell_type": "code",
   "execution_count": null,
   "metadata": {
    "collapsed": true
   },
   "outputs": [],
   "source": [
    "\n",
    "\n",
    "# Calling API for Facebook stock prices\n",
    "\n",
    "headers = {\n",
    "    'X-API-KEY': 'E86QP8PDW9BF64T4',\n",
    "}\n",
    "API_KEY = 'E86QP8PDW9BF64T4'\n",
    "url = 'https://www.alphavantage.co/query?function=TIME_SERIES_DAILY&symbol=FB&outputsize=full&apikey='+API_KEY\n",
    "api_call=requests.get(url, headers=headers)\n",
    "file3 = api_call.text\n",
    "file3=js.loads(api_call.text)\n",
    "\n"
   ]
  },
  {
   "cell_type": "code",
   "execution_count": null,
   "metadata": {
    "collapsed": true
   },
   "outputs": [],
   "source": [
    "\n",
    "\n",
    "# To write into csv\n",
    "\n",
    "csv.writer(open(\"data.csv\", \"wb\"), dialect=\"excel\")\n",
    "\n",
    "x = file3\n",
    "\n",
    "temp_data = file3['Time Series (Daily)']\n",
    "with open('Facebook_stock.csv','w') as f:\n",
    "    writ =  csv.writer(f)\n",
    "    label=('Date','Open','High','Low','Close','Volume')\n",
    "    writ.writerow(label)\n",
    "for temp_date in temp_data:\n",
    "    datetime_object = datetime.strptime(temp_date, '%Y-%m-%d')\n",
    "    fields =[datetime_object,\n",
    "             float(temp_data[temp_date]['1. open']),\n",
    "             float(temp_data[temp_date]['2. high']),\n",
    "             float(temp_data[temp_date]['3. low']),\n",
    "             float(temp_data[temp_date]['4. close']),\n",
    "             float(temp_data[temp_date]['5. volume'])]\n",
    "#     print (fields)\n",
    "    with open('Facebook_stock.csv','a') as f:\n",
    "        writ =  csv.writer(f)\n",
    "        writ.writerow(fields)\n",
    "        \n",
    "        "
   ]
  },
  {
   "cell_type": "code",
   "execution_count": null,
   "metadata": {
    "collapsed": true
   },
   "outputs": [],
   "source": [
    "\n",
    "\n",
    "# Changing time to Day Month Year format\n",
    "temp_data = file3['Time Series (Daily)']\n",
    "for temp_date in temp_data:\n",
    "    datetime_object = datetime.strptime(temp_date, '%Y-%m-%d')\n",
    "    (datetime_object)\n",
    "    \n",
    "    "
   ]
  },
  {
   "cell_type": "code",
   "execution_count": null,
   "metadata": {
    "collapsed": true
   },
   "outputs": [],
   "source": [
    "\n",
    "\n",
    "Facebook = pd.read_csv('Facebook_stock.csv', parse_dates=True, index_col=0 )\n",
    "Facebook.dropna(inplace=True)\n",
    "\n"
   ]
  },
  {
   "cell_type": "code",
   "execution_count": null,
   "metadata": {
    "collapsed": true
   },
   "outputs": [],
   "source": [
    "\n",
    "\n",
    "#Cleaning the index values. Changing time to Day Month Year format\n",
    "Address_F='Facebook_stock.csv'\n",
    "Facebook=pd.read_csv(Address_F)\n",
    "Facebook['Date'] = pd.to_datetime(Facebook['Date']).apply(lambda x: x.strftime('%Y-%m-%d')if not pd.isnull(x) else '')\n",
    "\n"
   ]
  },
  {
   "cell_type": "code",
   "execution_count": null,
   "metadata": {
    "collapsed": true
   },
   "outputs": [],
   "source": [
    "\n",
    "\n",
    "# a=Facebook['Date']\n",
    "# b=Facebook['High']\n",
    "\n",
    "# trace= go.Scatter(x=a,y=b)\n",
    "# data=[trace]\n",
    "# py.iplot(data, filename='Facebook')\n",
    "\n"
   ]
  },
  {
   "cell_type": "code",
   "execution_count": null,
   "metadata": {
    "collapsed": true
   },
   "outputs": [],
   "source": [
    "\n",
    "\n",
    "# Calling API for Google stock prices\n",
    "headers = {\n",
    "    'X-API-KEY': 'E86QP8PDW9BF64T4',\n",
    "}\n",
    "API_KEY = 'E86QP8PDW9BF64T4'\n",
    "url = 'https://www.alphavantage.co/query?function=TIME_SERIES_DAILY&symbol=GOOG&outputsize=full&apikey='+API_KEY\n",
    "api_call=requests.get(url, headers=headers)\n",
    "file4 = api_call.text\n",
    "file4=js.loads(api_call.text)\n",
    "a=file4['Time Series (Daily)']\n",
    "\n"
   ]
  },
  {
   "cell_type": "code",
   "execution_count": null,
   "metadata": {
    "collapsed": true
   },
   "outputs": [],
   "source": [
    "\n",
    "\n",
    "x = file4\n",
    "\n",
    "temp_data = file4['Time Series (Daily)']\n",
    "with open('Google_stock.csv','w') as f:\n",
    "    writ =  csv.writer(f)\n",
    "    label=('Date','Open','High','Low','Close','Volume')\n",
    "    writ.writerow(label)\n",
    "for temp_date in temp_data:\n",
    "    datetime_object = datetime.strptime(temp_date, '%Y-%m-%d')\n",
    "    fields =[datetime_object,\n",
    "             float(temp_data[temp_date]['1. open']),\n",
    "             float(temp_data[temp_date]['2. high']),\n",
    "             float(temp_data[temp_date]['3. low']),\n",
    "             float(temp_data[temp_date]['4. close']),\n",
    "             float(temp_data[temp_date]['5. volume'])]\n",
    "#     print (fields)\n",
    "    with open('Google_stock.csv','a') as f:\n",
    "        writ =  csv.writer(f)\n",
    "        writ.writerow(fields)\n",
    "        \n",
    "        "
   ]
  },
  {
   "cell_type": "code",
   "execution_count": null,
   "metadata": {
    "collapsed": true
   },
   "outputs": [],
   "source": [
    "\n",
    "\n",
    "# Changing time to Day Month Year format\n",
    "temp_data = file4['Time Series (Daily)']\n",
    "for temp_date in temp_data:\n",
    "    datetime_object = datetime.strptime(temp_date, '%Y-%m-%d')\n",
    "    (datetime_object)\n",
    "    \n",
    "    "
   ]
  },
  {
   "cell_type": "code",
   "execution_count": null,
   "metadata": {
    "collapsed": true
   },
   "outputs": [],
   "source": [
    "\n",
    "\n",
    "Google = pd.read_csv('Google_stock.csv', parse_dates=True, index_col=0 )\n",
    "Google.dropna(inplace=True)\n",
    "\n"
   ]
  },
  {
   "cell_type": "code",
   "execution_count": null,
   "metadata": {
    "collapsed": true
   },
   "outputs": [],
   "source": [
    "\n",
    "\n",
    "#Cleaning the index values. Changing time to Day Month Year format\n",
    "Address_G='Google_stock.csv'\n",
    "Google=pd.read_csv(Address_G)\n",
    "Google['Date'] = pd.to_datetime(Google['Date']).apply(lambda x: x.strftime('%Y-%m-%d')if not pd.isnull(x) else '')\n",
    "\n"
   ]
  },
  {
   "cell_type": "code",
   "execution_count": null,
   "metadata": {
    "collapsed": true
   },
   "outputs": [],
   "source": [
    "\n",
    "\n",
    "# a=Google['Date']\n",
    "# b=Google['High']\n",
    "\n",
    "# trace= go.Scatter(x=a,y=b)\n",
    "# data=[trace]\n",
    "# py.iplot(data, filename='Google')\n",
    "\n"
   ]
  },
  {
   "cell_type": "code",
   "execution_count": null,
   "metadata": {
    "collapsed": true
   },
   "outputs": [],
   "source": [
    "\n",
    "\n",
    "# Calling API for Disney stock prices\n",
    "\n",
    "headers = {\n",
    "    'X-API-KEY': 'E86QP8PDW9BF64T4',\n",
    "}\n",
    "API_KEY = 'E86QP8PDW9BF64T4'\n",
    "url = 'https://www.alphavantage.co/query?function=TIME_SERIES_DAILY&symbol=DIS&outputsize=full&apikey='+API_KEY\n",
    "api_call=requests.get(url, headers=headers)\n",
    "file5 = api_call.text\n",
    "file5=js.loads(api_call.text)\n",
    "\n"
   ]
  },
  {
   "cell_type": "code",
   "execution_count": null,
   "metadata": {
    "collapsed": true
   },
   "outputs": [],
   "source": [
    "\n",
    "\n",
    "# To write into csv\n",
    "\n",
    "csv.writer(open(\"data.csv\", \"wb\"), dialect=\"excel\")\n",
    "\n",
    "x = file5\n",
    "\n",
    "temp_data = file5['Time Series (Daily)']\n",
    "with open('Disney_stock.csv','w') as f:\n",
    "    writ =  csv.writer(f)\n",
    "    label=('Date','Open','High','Low','Close','Volume')\n",
    "    writ.writerow(label)\n",
    "for temp_date in temp_data:\n",
    "    datetime_object = datetime.strptime(temp_date, '%Y-%m-%d')\n",
    "    fields =[datetime_object,\n",
    "             float(temp_data[temp_date]['1. open']),\n",
    "             float(temp_data[temp_date]['2. high']),\n",
    "             float(temp_data[temp_date]['3. low']),\n",
    "             float(temp_data[temp_date]['4. close']),\n",
    "             float(temp_data[temp_date]['5. volume'])]\n",
    "#     print (fields)\n",
    "    with open('Disney_stock.csv','a') as f:\n",
    "        writ =  csv.writer(f)\n",
    "        writ.writerow(fields)\n",
    "        \n",
    "        "
   ]
  },
  {
   "cell_type": "code",
   "execution_count": null,
   "metadata": {
    "collapsed": true
   },
   "outputs": [],
   "source": [
    "\n",
    "\n",
    "# Changing time to Day Month Year format\n",
    "temp_data = file5['Time Series (Daily)']\n",
    "for temp_date in temp_data:\n",
    "    datetime_object = datetime.strptime(temp_date, '%Y-%m-%d')\n",
    "    (datetime_object)\n",
    "    \n",
    "    "
   ]
  },
  {
   "cell_type": "code",
   "execution_count": null,
   "metadata": {
    "collapsed": true
   },
   "outputs": [],
   "source": [
    "\n",
    "\n",
    "Disney = pd.read_csv('Disney_stock.csv', parse_dates=True, index_col=0 )\n",
    "Disney.dropna(inplace=True)\n",
    "\n"
   ]
  },
  {
   "cell_type": "code",
   "execution_count": null,
   "metadata": {
    "collapsed": true
   },
   "outputs": [],
   "source": [
    "\n",
    "\n",
    "#Cleaning the index values. Changing time to Day Month Year format\n",
    "Address_D='Disney_stock.csv'\n",
    "Disney=pd.read_csv(Address_D)\n",
    "Disney['Date'] = pd.to_datetime(Disney['Date']).apply(lambda x: x.strftime('%Y-%m-%d')if not pd.isnull(x) else '')\n",
    "\n"
   ]
  },
  {
   "cell_type": "code",
   "execution_count": null,
   "metadata": {
    "collapsed": true
   },
   "outputs": [],
   "source": [
    "\n",
    "\n",
    "# a=Disney['Date']\n",
    "# b=Disney['High']\n",
    "\n",
    "# trace= go.Scatter(x=a,y=b)\n",
    "# data=[trace]\n",
    "# py.iplot(data, filename='Disney')\n",
    "\n"
   ]
  },
  {
   "cell_type": "code",
   "execution_count": null,
   "metadata": {
    "collapsed": true
   },
   "outputs": [],
   "source": [
    "\n",
    "\n",
    "# Calling API for Netflix stock prices\n",
    "\n",
    "headers = {\n",
    "    'X-API-KEY': 'E86QP8PDW9BF64T4',\n",
    "}\n",
    "API_KEY = 'E86QP8PDW9BF64T4'\n",
    "url = 'https://www.alphavantage.co/query?function=TIME_SERIES_DAILY&symbol=NFLX&outputsize=full&apikey='+API_KEY\n",
    "api_call=requests.get(url, headers=headers)\n",
    "file6 = api_call.text\n",
    "file6=js.loads(api_call.text)\n",
    "\n"
   ]
  },
  {
   "cell_type": "code",
   "execution_count": null,
   "metadata": {
    "collapsed": true
   },
   "outputs": [],
   "source": [
    "\n",
    "\n",
    "# To write into csv\n",
    "\n",
    "csv.writer(open(\"data.csv\", \"wb\"), dialect=\"excel\")\n",
    "\n",
    "x = file6\n",
    "\n",
    "temp_data = file6['Time Series (Daily)']\n",
    "with open('Netflix_stock.csv','w') as f:\n",
    "    writ =  csv.writer(f)\n",
    "    label=('Date','Open','High','Low','Close','Volume')\n",
    "    writ.writerow(label)\n",
    "for temp_date in temp_data:\n",
    "    datetime_object = datetime.strptime(temp_date, '%Y-%m-%d')\n",
    "    fields =[datetime_object,\n",
    "             float(temp_data[temp_date]['1. open']),\n",
    "             float(temp_data[temp_date]['2. high']),\n",
    "             float(temp_data[temp_date]['3. low']),\n",
    "             float(temp_data[temp_date]['4. close']),\n",
    "             float(temp_data[temp_date]['5. volume'])]\n",
    "#     print (fields)\n",
    "    with open('Netflix_stock.csv','a') as f:\n",
    "        writ =  csv.writer(f)\n",
    "        writ.writerow(fields)\n",
    "        \n",
    "        "
   ]
  },
  {
   "cell_type": "code",
   "execution_count": null,
   "metadata": {
    "collapsed": true
   },
   "outputs": [],
   "source": [
    "\n",
    "\n",
    "# Changing time to Day Month Year format\n",
    "temp_data = file6['Time Series (Daily)']\n",
    "for temp_date in temp_data:\n",
    "    datetime_object = datetime.strptime(temp_date, '%Y-%m-%d')\n",
    "    (datetime_object)\n",
    "    \n",
    "    "
   ]
  },
  {
   "cell_type": "code",
   "execution_count": null,
   "metadata": {
    "collapsed": true
   },
   "outputs": [],
   "source": [
    "\n",
    "\n",
    "Netflix = pd.read_csv('Netflix_stock.csv', parse_dates=True, index_col=0 )\n",
    "Netflix.dropna(inplace=True)\n",
    "\n"
   ]
  },
  {
   "cell_type": "code",
   "execution_count": null,
   "metadata": {
    "collapsed": true
   },
   "outputs": [],
   "source": [
    "\n",
    "\n",
    "#Cleaning the index values. Changing time to Day Month Year format\n",
    "Address_N='Netflix_stock.csv'\n",
    "Netflix=pd.read_csv(Address_N)\n",
    "Netflix['Date'] = pd.to_datetime(Netflix['Date']).apply(lambda x: x.strftime('%Y-%m-%d')if not pd.isnull(x) else '')\n",
    "\n"
   ]
  },
  {
   "cell_type": "code",
   "execution_count": null,
   "metadata": {
    "collapsed": true
   },
   "outputs": [],
   "source": [
    "\n",
    "\n",
    "# a=Netflix['Date']\n",
    "# b=Netflix['High']\n",
    "\n",
    "# trace= go.Scatter(x=a,y=b)\n",
    "# data=[trace]\n",
    "# py.iplot(data, filename='Netflix')\n",
    "\n"
   ]
  },
  {
   "cell_type": "code",
   "execution_count": null,
   "metadata": {
    "collapsed": true
   },
   "outputs": [],
   "source": [
    "\n",
    "\n",
    "# Calling API for Amazon stock prices\n",
    "\n",
    "headers = {\n",
    "    'X-API-KEY': 'E86QP8PDW9BF64T4',\n",
    "}\n",
    "API_KEY = 'E86QP8PDW9BF64T4'\n",
    "url = 'https://www.alphavantage.co/query?function=TIME_SERIES_DAILY&symbol=AMZN&outputsize=full&apikey='+API_KEY\n",
    "api_call=requests.get(url, headers=headers)\n",
    "file7 = api_call.text\n",
    "file7 =js.loads(api_call.text)\n",
    "\n"
   ]
  },
  {
   "cell_type": "code",
   "execution_count": null,
   "metadata": {
    "collapsed": true
   },
   "outputs": [],
   "source": [
    "\n",
    "\n",
    "# To write into csv\n",
    "\n",
    "csv.writer(open(\"data.csv\", \"wb\"), dialect=\"excel\")\n",
    "\n",
    "x = file7\n",
    "\n",
    "temp_data = file7['Time Series (Daily)']\n",
    "with open('Amazon_stock.csv','w') as f:\n",
    "    writ =  csv.writer(f)\n",
    "    label=('Date','Open','High','Low','Close','Volume')\n",
    "    writ.writerow(label)\n",
    "for temp_date in temp_data:\n",
    "    datetime_object = datetime.strptime(temp_date, '%Y-%m-%d')\n",
    "    fields =[datetime_object,\n",
    "             float(temp_data[temp_date]['1. open']),\n",
    "             float(temp_data[temp_date]['2. high']),\n",
    "             float(temp_data[temp_date]['3. low']),\n",
    "             float(temp_data[temp_date]['4. close']),\n",
    "             float(temp_data[temp_date]['5. volume'])]\n",
    "#     print (fields)\n",
    "    with open('Amazon_stock.csv','a') as f:\n",
    "        writ =  csv.writer(f)\n",
    "        writ.writerow(fields)\n",
    "        \n",
    "        "
   ]
  },
  {
   "cell_type": "code",
   "execution_count": null,
   "metadata": {
    "collapsed": true
   },
   "outputs": [],
   "source": [
    "\n",
    "\n",
    "# Changing time to Day Month Year format\n",
    "temp_data = file7['Time Series (Daily)']\n",
    "for temp_date in temp_data:\n",
    "    datetime_object = datetime.strptime(temp_date, '%Y-%m-%d')\n",
    "    (datetime_object)\n",
    "    \n",
    "    "
   ]
  },
  {
   "cell_type": "code",
   "execution_count": null,
   "metadata": {
    "collapsed": true
   },
   "outputs": [],
   "source": [
    "\n",
    "\n",
    "Amazon = pd.read_csv('Amazon_stock.csv', parse_dates=True, index_col=0 )\n",
    "Amazon.dropna(inplace=True)\n",
    "\n"
   ]
  },
  {
   "cell_type": "code",
   "execution_count": null,
   "metadata": {
    "collapsed": true
   },
   "outputs": [],
   "source": [
    "\n",
    "\n",
    "#Cleaning the index values. Changing time to Day Month Year format\n",
    "Address_A='Amazon_stock.csv'\n",
    "Amazon=pd.read_csv(Address_A)\n",
    "Amazon['Date'] = pd.to_datetime(Amazon['Date']).apply(lambda x: x.strftime('%Y-%m-%d')if not pd.isnull(x) else '')\n",
    "\n"
   ]
  },
  {
   "cell_type": "code",
   "execution_count": null,
   "metadata": {
    "collapsed": true
   },
   "outputs": [],
   "source": [
    "\n",
    "\n",
    "# a=Amazon['Date']\n",
    "# b=Amazon['High']\n",
    "\n",
    "# trace= go.Scatter(x=a,y=b)\n",
    "# data=[trace]\n",
    "# py.iplot(data, filename='Amazon')\n",
    "\n"
   ]
  },
  {
   "cell_type": "code",
   "execution_count": null,
   "metadata": {
    "collapsed": false
   },
   "outputs": [],
   "source": [
    "\n",
    "\n",
    "#Plotting date vs highest stock price for Microsoft, Apple and Tesla from 2005 to today\n",
    "\n",
    "Microsoft_plot=go.Scatter(\n",
    "    x=Microsoft['Date'],\n",
    "    y=Microsoft['High'],\n",
    "    name='Microsoft')\n",
    "\n",
    "Apple_plot=go.Scatter(\n",
    "    x=Apple['Date'],\n",
    "    y=Apple['High'],\n",
    "    name='Apple')\n",
    "\n",
    "Facebook_plot=go.Scatter(\n",
    "    x=Facebook['Date'],\n",
    "    y=Facebook['High'],\n",
    "    name='Facebook')\n",
    "\n",
    "Google_plot=go.Scatter(\n",
    "    x=Google['Date'],\n",
    "    y=Google['High'],\n",
    "    name='Tesla')\n",
    "\n",
    "Disney_plot=go.Scatter(\n",
    "    x=Disney['Date'],\n",
    "    y=Disney['High'],\n",
    "    name='Disney')\n",
    "\n",
    "Netflix_plot=go.Scatter(\n",
    "    x=Netflix['Date'],\n",
    "    y=Netflix['High'],\n",
    "    name='Netflix')\n",
    "\n",
    "\n",
    "\n",
    "Amazon_plot=go.Scatter(\n",
    "    x=Amazon['Date'],\n",
    "    y=Amazon['High'],\n",
    "    name='Amazon')\n",
    "\n",
    "\n",
    "data = [Microsoft_plot, Apple_plot, Facebook_plot, Google_plot, Disney_plot, Netflix_plot, Amazon_plot]\n",
    "layout=go.Layout(barmode='bar')\n",
    "\n",
    "Fig=go.Figure(data=data,layout=layout)\n",
    "py.iplot(Fig,filename='Stock Prices')\n"
   ]
  },
  {
   "cell_type": "code",
   "execution_count": null,
   "metadata": {
    "collapsed": false
   },
   "outputs": [],
   "source": [
    "import plotly as py\n",
    "import plotly.graph_objs as go\n",
    "import ipywidgets as widgets\n",
    "\n",
    "py.offline.init_notebook_mode(connected=True)\n",
    "\n",
    "#Plotting date vs highest stock price for Microsoft, Apple and Tesla from 2005 to today\n",
    "\n",
    "\n",
    "def graph_data(graph_name):\n",
    "    Microsoft_plot=go.Scatter(\n",
    "    x=Microsoft['Date'],\n",
    "    y=Microsoft[graph_name],\n",
    "    name='Microsoft')\n",
    "        \n",
    "    Apple_plot=go.Scatter(\n",
    "    x=Apple['Date'],\n",
    "    y=Apple[graph_name],\n",
    "    name='Apple')\n",
    "\n",
    "\n",
    "    Facebook_plot=go.Scatter(\n",
    "    x=Facebook['Date'],\n",
    "    y=Facebook[graph_name],\n",
    "    name='Facebook')\n",
    "\n",
    "    Google_plot=go.Scatter(\n",
    "    x=Google['Date'],\n",
    "    y=Google[graph_name],\n",
    "    name='Tesla')\n",
    "\n",
    "    Disney_plot=go.Scatter(\n",
    "    x=Disney['Date'],\n",
    "    y=Disney[graph_name],\n",
    "    name='Disney')\n",
    "\n",
    "    Netflix_plot=go.Scatter(\n",
    "    x=Netflix['Date'],\n",
    "    y=Netflix[graph_name],\n",
    "    name='Netflix')\n",
    "\n",
    "    Amazon_plot=go.Scatter(\n",
    "    x=Amazon['Date'],\n",
    "    y=Amazon[graph_name],\n",
    "    name='Amazon')    \n",
    "    \n",
    "    data=[Microsoft_plot, Apple_plot, Facebook_plot, Google_plot, Disney_plot, Netflix_plot, Amazon_plot]\n",
    "    layout=go.Layout(barmode='bar')\n",
    "\n",
    "    Fig=go.Figure(data=data,layout=layout)\n",
    "    py.offline.iplot(Fig,filename='Stock Prices')\n",
    "\n",
    "# graph_data('High') \n",
    "\n",
    "\n",
    "\n",
    "graph_type = ['High', 'Low', 'Open', 'Close', 'Volume']\n",
    "signal = widgets.RadioButtons(options=graph_type,value='High',description='Values',disable = False)\n",
    "widgets.interactive(graph_data,graph_name = signal)"
   ]
  },
  {
   "cell_type": "code",
   "execution_count": null,
   "metadata": {
    "collapsed": true
   },
   "outputs": [],
   "source": []
  }
 ],
 "metadata": {
  "kernelspec": {
   "display_name": "Python 3",
   "language": "python",
   "name": "python3"
  }
 },
 "nbformat": 4,
 "nbformat_minor": 2
}
